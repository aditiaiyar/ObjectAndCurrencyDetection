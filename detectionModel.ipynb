{
  "nbformat": 4,
  "nbformat_minor": 0,
  "metadata": {
    "colab": {
      "name": "Final.ipynb",
      "provenance": [],
      "collapsed_sections": [],
      "authorship_tag": "ABX9TyPo153u7wAUvYf6V+tDgxE3"
    },
    "kernelspec": {
      "name": "python3",
      "display_name": "Python 3"
    },
    "accelerator": "GPU"
  },
  "cells": [
    {
      "cell_type": "code",
      "metadata": {
        "id": "EFlQMK72xjKM",
        "colab": {
          "base_uri": "https://localhost:8080/",
          "height": 184
        },
        "outputId": "419ba9b6-8b89-4f84-f280-ca1e115d2b50"
      },
      "source": [
        "from os.path import join\n",
        "from google.colab import drive\n",
        " \n",
        "ROOT = \"/content/drive\"\n",
        "drive.mount(ROOT)\n",
        " \n",
        "PROJ = \"My Drive/currency_project\" # This is a custom path.\n",
        "PROJECT_PATH = join(ROOT, PROJ)\n",
        " \n",
        "%cd ~/content\n",
        "%cd drive/My Drive/currency_project"
      ],
      "execution_count": null,
      "outputs": [
        {
          "output_type": "stream",
          "text": [
            "Go to this URL in a browser: https://accounts.google.com/o/oauth2/auth?client_id=947318989803-6bn6qk8qdgf4n4g3pfee6491hc0brc4i.apps.googleusercontent.com&redirect_uri=urn%3aietf%3awg%3aoauth%3a2.0%3aoob&response_type=code&scope=email%20https%3a%2f%2fwww.googleapis.com%2fauth%2fdocs.test%20https%3a%2f%2fwww.googleapis.com%2fauth%2fdrive%20https%3a%2f%2fwww.googleapis.com%2fauth%2fdrive.photos.readonly%20https%3a%2f%2fwww.googleapis.com%2fauth%2fpeopleapi.readonly\n",
            "\n",
            "Enter your authorization code:\n",
            "··········\n",
            "Mounted at /content/drive\n",
            "[Errno 2] No such file or directory: '/root/content'\n",
            "/content\n",
            "/content/drive/My Drive/currency_project\n"
          ],
          "name": "stdout"
        }
      ]
    },
    {
      "cell_type": "code",
      "metadata": {
        "id": "lsTbV47Mx09A",
        "colab": {
          "base_uri": "https://localhost:8080/",
          "height": 36
        },
        "outputId": "e119985c-100c-4adb-c07c-1769b1d179cc"
      },
      "source": [
        "from __future__ import absolute_import, division, print_function, unicode_literals\n",
        "\n",
        "try:\n",
        "  %tensorflow_version 2.x\n",
        "except Exception:\n",
        "  pass\n",
        "import tensorflow as tf\n",
        "\n",
        "import os\n",
        "import numpy as np\n",
        "import matplotlib.pyplot as plt\n",
        "tf.__version__"
      ],
      "execution_count": null,
      "outputs": [
        {
          "output_type": "execute_result",
          "data": {
            "application/vnd.google.colaboratory.intrinsic": {
              "type": "string"
            },
            "text/plain": [
              "'2.2.0'"
            ]
          },
          "metadata": {
            "tags": []
          },
          "execution_count": 2
        }
      ]
    },
    {
      "cell_type": "code",
      "metadata": {
        "id": "Fo1mpD0dyFIo",
        "colab": {
          "base_uri": "https://localhost:8080/",
          "height": 54
        },
        "outputId": "d4161231-71d1-4878-c657-e7837914c260"
      },
      "source": [
        "IMAGE_SIZE = 300\n",
        "BATCH_SIZE = 64\n",
        "\n",
        "\n",
        "datagen = tf.keras.preprocessing.image.ImageDataGenerator(\n",
        "      \n",
        "        rotation_range=40,\n",
        "        width_shift_range=0.2,\n",
        "         height_shift_range=0.2,\n",
        "         rescale=1./255,\n",
        "         shear_range=0.2,\n",
        "        horizontal_flip=True, vertical_flip=True, validation_split=0.2)\n",
        "\n",
        "train_generator = datagen.flow_from_directory(\n",
        "    './dataset',\n",
        "    target_size=(IMAGE_SIZE, IMAGE_SIZE),\n",
        "    batch_size=BATCH_SIZE, \n",
        "    subset='training')\n",
        "\n",
        "val_generator = datagen.flow_from_directory(\n",
        "    './dataset',\n",
        "    target_size=(IMAGE_SIZE, IMAGE_SIZE),\n",
        "    batch_size=BATCH_SIZE,\n",
        "    shuffle=False, \n",
        "    subset='validation')"
      ],
      "execution_count": null,
      "outputs": [
        {
          "output_type": "stream",
          "text": [
            "Found 636 images belonging to 11 classes.\n",
            "Found 154 images belonging to 11 classes.\n"
          ],
          "name": "stdout"
        }
      ]
    },
    {
      "cell_type": "code",
      "metadata": {
        "id": "LveV8dyDyV6Y",
        "colab": {
          "base_uri": "https://localhost:8080/",
          "height": 35
        },
        "outputId": "d6bfa829-74cd-4625-d43d-01b66bb3750e"
      },
      "source": [
        "for image_batch, label_batch in train_generator:\n",
        "  break\n",
        "image_batch.shape, label_batch.shape"
      ],
      "execution_count": null,
      "outputs": [
        {
          "output_type": "execute_result",
          "data": {
            "text/plain": [
              "((64, 300, 300, 3), (64, 11))"
            ]
          },
          "metadata": {
            "tags": []
          },
          "execution_count": 5
        }
      ]
    },
    {
      "cell_type": "code",
      "metadata": {
        "id": "LUbKFD-XyYtx",
        "colab": {
          "base_uri": "https://localhost:8080/",
          "height": 35
        },
        "outputId": "419da2a1-95ca-4f65-fe95-38975894c896"
      },
      "source": [
        "print (train_generator.class_indices)\n",
        "\n",
        "labels = '\\n'.join(sorted(train_generator.class_indices.keys()))\n",
        "\n",
        "with open('labels.txt', 'w') as f:\n",
        "  f.write(labels)"
      ],
      "execution_count": null,
      "outputs": [
        {
          "output_type": "stream",
          "text": [
            "{'1': 0, '10': 1, '10 coin': 2, '100': 3, '2': 4, '20': 5, '200': 6, '2000': 7, '5': 8, '50': 9, '500': 10}\n"
          ],
          "name": "stdout"
        }
      ]
    },
    {
      "cell_type": "code",
      "metadata": {
        "id": "J4421mnbyaqj",
        "colab": {
          "base_uri": "https://localhost:8080/",
          "height": 219
        },
        "outputId": "f8fc1e37-e6d4-45b3-b2a8-39d764960c90"
      },
      "source": [
        "!cat labels.txt"
      ],
      "execution_count": null,
      "outputs": [
        {
          "output_type": "stream",
          "text": [
            "1\n",
            "10\n",
            "10 coin\n",
            "100\n",
            "2\n",
            "20\n",
            "200\n",
            "2000\n",
            "5\n",
            "50\n",
            "500"
          ],
          "name": "stdout"
        }
      ]
    },
    {
      "cell_type": "code",
      "metadata": {
        "id": "lJDF8FY-ylu4",
        "colab": {
          "base_uri": "https://localhost:8080/",
          "height": 380
        },
        "outputId": "1e112aff-f10a-4e62-d010-ece3c45ee25c"
      },
      "source": [
        "IMG_SHAPE = (IMAGE_SIZE, IMAGE_SIZE, 3)\n",
        "\n",
        "# Create the base model from the pre-trained model MobileNet V2\n",
        "base_model = tf.keras.applications.NASNetLarge(input_shape=IMG_SHAPE,\n",
        "                                              include_top=False, \n",
        "                                              weights='imagenet')"
      ],
      "execution_count": null,
      "outputs": [
        {
          "output_type": "error",
          "ename": "ValueError",
          "evalue": "ignored",
          "traceback": [
            "\u001b[0;31m---------------------------------------------------------------------------\u001b[0m",
            "\u001b[0;31mValueError\u001b[0m                                Traceback (most recent call last)",
            "\u001b[0;32m<ipython-input-8-7fb35538a68e>\u001b[0m in \u001b[0;36m<module>\u001b[0;34m()\u001b[0m\n\u001b[1;32m      4\u001b[0m base_model = tf.keras.applications.NASNetLarge(input_shape=IMG_SHAPE,\n\u001b[1;32m      5\u001b[0m                                               \u001b[0minclude_top\u001b[0m\u001b[0;34m=\u001b[0m\u001b[0;32mFalse\u001b[0m\u001b[0;34m,\u001b[0m\u001b[0;34m\u001b[0m\u001b[0;34m\u001b[0m\u001b[0m\n\u001b[0;32m----> 6\u001b[0;31m                                               weights='imagenet')\n\u001b[0m",
            "\u001b[0;32m/usr/local/lib/python3.6/dist-packages/tensorflow/python/keras/applications/nasnet.py\u001b[0m in \u001b[0;36mNASNetLarge\u001b[0;34m(input_shape, include_top, weights, input_tensor, pooling, classes)\u001b[0m\n\u001b[1;32m    452\u001b[0m       \u001b[0mpooling\u001b[0m\u001b[0;34m=\u001b[0m\u001b[0mpooling\u001b[0m\u001b[0;34m,\u001b[0m\u001b[0;34m\u001b[0m\u001b[0;34m\u001b[0m\u001b[0m\n\u001b[1;32m    453\u001b[0m       \u001b[0mclasses\u001b[0m\u001b[0;34m=\u001b[0m\u001b[0mclasses\u001b[0m\u001b[0;34m,\u001b[0m\u001b[0;34m\u001b[0m\u001b[0;34m\u001b[0m\u001b[0m\n\u001b[0;32m--> 454\u001b[0;31m       default_size=331)\n\u001b[0m\u001b[1;32m    455\u001b[0m \u001b[0;34m\u001b[0m\u001b[0m\n\u001b[1;32m    456\u001b[0m \u001b[0;34m\u001b[0m\u001b[0m\n",
            "\u001b[0;32m/usr/local/lib/python3.6/dist-packages/tensorflow/python/keras/applications/nasnet.py\u001b[0m in \u001b[0;36mNASNet\u001b[0;34m(input_shape, penultimate_filters, num_blocks, stem_block_filters, skip_reduction, filter_multiplier, include_top, weights, input_tensor, pooling, classes, default_size, classifier_activation)\u001b[0m\n\u001b[1;32m    175\u001b[0m       \u001b[0mdata_format\u001b[0m\u001b[0;34m=\u001b[0m\u001b[0mbackend\u001b[0m\u001b[0;34m.\u001b[0m\u001b[0mimage_data_format\u001b[0m\u001b[0;34m(\u001b[0m\u001b[0;34m)\u001b[0m\u001b[0;34m,\u001b[0m\u001b[0;34m\u001b[0m\u001b[0;34m\u001b[0m\u001b[0m\n\u001b[1;32m    176\u001b[0m       \u001b[0mrequire_flatten\u001b[0m\u001b[0;34m=\u001b[0m\u001b[0;32mTrue\u001b[0m\u001b[0;34m,\u001b[0m\u001b[0;34m\u001b[0m\u001b[0;34m\u001b[0m\u001b[0m\n\u001b[0;32m--> 177\u001b[0;31m       weights=weights)\n\u001b[0m\u001b[1;32m    178\u001b[0m \u001b[0;34m\u001b[0m\u001b[0m\n\u001b[1;32m    179\u001b[0m   \u001b[0;32mif\u001b[0m \u001b[0mbackend\u001b[0m\u001b[0;34m.\u001b[0m\u001b[0mimage_data_format\u001b[0m\u001b[0;34m(\u001b[0m\u001b[0;34m)\u001b[0m \u001b[0;34m!=\u001b[0m \u001b[0;34m'channels_last'\u001b[0m\u001b[0;34m:\u001b[0m\u001b[0;34m\u001b[0m\u001b[0;34m\u001b[0m\u001b[0m\n",
            "\u001b[0;32m/usr/local/lib/python3.6/dist-packages/tensorflow/python/keras/applications/imagenet_utils.py\u001b[0m in \u001b[0;36mobtain_input_shape\u001b[0;34m(input_shape, default_size, min_size, data_format, require_flatten, weights)\u001b[0m\n\u001b[1;32m    334\u001b[0m         raise ValueError('When setting `include_top=True` '\n\u001b[1;32m    335\u001b[0m                          \u001b[0;34m'and loading `imagenet` weights, '\u001b[0m\u001b[0;34m\u001b[0m\u001b[0;34m\u001b[0m\u001b[0m\n\u001b[0;32m--> 336\u001b[0;31m                          '`input_shape` should be ' + str(default_shape) + '.')\n\u001b[0m\u001b[1;32m    337\u001b[0m     \u001b[0;32mreturn\u001b[0m \u001b[0mdefault_shape\u001b[0m\u001b[0;34m\u001b[0m\u001b[0;34m\u001b[0m\u001b[0m\n\u001b[1;32m    338\u001b[0m   \u001b[0;32mif\u001b[0m \u001b[0minput_shape\u001b[0m\u001b[0;34m:\u001b[0m\u001b[0;34m\u001b[0m\u001b[0;34m\u001b[0m\u001b[0m\n",
            "\u001b[0;31mValueError\u001b[0m: When setting `include_top=True` and loading `imagenet` weights, `input_shape` should be (331, 331, 3)."
          ]
        }
      ]
    },
    {
      "cell_type": "code",
      "metadata": {
        "id": "7pzsNiUMyoda"
      },
      "source": [
        "base_model.trainable = False"
      ],
      "execution_count": null,
      "outputs": []
    },
    {
      "cell_type": "code",
      "metadata": {
        "id": "7Pmazny_yq8R"
      },
      "source": [
        "x=base_model.output\n",
        "x=tf.keras.layers.GlobalAveragePooling2D()(x)\n",
        "x=tf.keras.layers.Dense(1024,activation='relu')(x) #we add dense layers so that the model can learn more complex functions and classify for better results.\n",
        "x=tf.keras.layers.Dense(1024,activation='relu')(x) #dense layer 2\n",
        "x=tf.keras.layers.Dense(512,activation='relu')(x) #dense layer 3\n",
        "preds=tf.keras.layers.Dense(11,activation='softmax')(x)"
      ],
      "execution_count": null,
      "outputs": []
    },
    {
      "cell_type": "code",
      "metadata": {
        "id": "Ioq0jlrsyuKM"
      },
      "source": [
        "model = tf.keras.Model(inputs=base_model.input,outputs=preds)\n"
      ],
      "execution_count": null,
      "outputs": []
    },
    {
      "cell_type": "code",
      "metadata": {
        "id": "aBv-ZYk_yw78",
        "colab": {
          "base_uri": "https://localhost:8080/",
          "height": 35
        },
        "outputId": "22f3de2a-bc8e-4a88-f69e-1d32d2be279c"
      },
      "source": [
        "print('Number of trainable variables = {}'.format(len(model.trainable_variables)))"
      ],
      "execution_count": null,
      "outputs": [
        {
          "output_type": "stream",
          "text": [
            "Number of trainable variables = 8\n"
          ],
          "name": "stdout"
        }
      ]
    },
    {
      "cell_type": "code",
      "metadata": {
        "id": "yuZ2mE8ezYic",
        "colab": {
          "base_uri": "https://localhost:8080/",
          "height": 35
        },
        "outputId": "37fdeebc-0418-409d-f886-8566f805fdad"
      },
      "source": [
        "\n",
        "print(\"Number of layers in the base model: \", len(base_model.layers))\n",
        "\n",
        "\n",
        "for layer in base_model.layers:\n",
        "   layer.trainable =  False\n",
        "\n",
        "for layer in base_model.layers[87:]:\n",
        "  layer.trainable = True"
      ],
      "execution_count": null,
      "outputs": [
        {
          "output_type": "stream",
          "text": [
            "Number of layers in the base model:  87\n"
          ],
          "name": "stdout"
        }
      ]
    },
    {
      "cell_type": "code",
      "metadata": {
        "id": "XIwYbc7czaas"
      },
      "source": [
        "model.compile(loss='categorical_crossentropy',\n",
        "              optimizer = tf.keras.optimizers.Adam(),\n",
        "              metrics=['accuracy'])"
      ],
      "execution_count": null,
      "outputs": []
    },
    {
      "cell_type": "code",
      "metadata": {
        "id": "8gH9zSREzf33",
        "colab": {
          "base_uri": "https://localhost:8080/",
          "height": 1000
        },
        "outputId": "1673757c-7fb0-4745-cd08-5b00cf1b242e"
      },
      "source": [
        "model.summary()"
      ],
      "execution_count": null,
      "outputs": [
        {
          "output_type": "stream",
          "text": [
            "Model: \"model\"\n",
            "_________________________________________________________________\n",
            "Layer (type)                 Output Shape              Param #   \n",
            "=================================================================\n",
            "input_1 (InputLayer)         [(None, 300, 300, 3)]     0         \n",
            "_________________________________________________________________\n",
            "conv1_pad (ZeroPadding2D)    (None, 301, 301, 3)       0         \n",
            "_________________________________________________________________\n",
            "conv1 (Conv2D)               (None, 150, 150, 32)      864       \n",
            "_________________________________________________________________\n",
            "conv1_bn (BatchNormalization (None, 150, 150, 32)      128       \n",
            "_________________________________________________________________\n",
            "conv1_relu (ReLU)            (None, 150, 150, 32)      0         \n",
            "_________________________________________________________________\n",
            "conv_dw_1 (DepthwiseConv2D)  (None, 150, 150, 32)      288       \n",
            "_________________________________________________________________\n",
            "conv_dw_1_bn (BatchNormaliza (None, 150, 150, 32)      128       \n",
            "_________________________________________________________________\n",
            "conv_dw_1_relu (ReLU)        (None, 150, 150, 32)      0         \n",
            "_________________________________________________________________\n",
            "conv_pw_1 (Conv2D)           (None, 150, 150, 64)      2048      \n",
            "_________________________________________________________________\n",
            "conv_pw_1_bn (BatchNormaliza (None, 150, 150, 64)      256       \n",
            "_________________________________________________________________\n",
            "conv_pw_1_relu (ReLU)        (None, 150, 150, 64)      0         \n",
            "_________________________________________________________________\n",
            "conv_pad_2 (ZeroPadding2D)   (None, 151, 151, 64)      0         \n",
            "_________________________________________________________________\n",
            "conv_dw_2 (DepthwiseConv2D)  (None, 75, 75, 64)        576       \n",
            "_________________________________________________________________\n",
            "conv_dw_2_bn (BatchNormaliza (None, 75, 75, 64)        256       \n",
            "_________________________________________________________________\n",
            "conv_dw_2_relu (ReLU)        (None, 75, 75, 64)        0         \n",
            "_________________________________________________________________\n",
            "conv_pw_2 (Conv2D)           (None, 75, 75, 128)       8192      \n",
            "_________________________________________________________________\n",
            "conv_pw_2_bn (BatchNormaliza (None, 75, 75, 128)       512       \n",
            "_________________________________________________________________\n",
            "conv_pw_2_relu (ReLU)        (None, 75, 75, 128)       0         \n",
            "_________________________________________________________________\n",
            "conv_dw_3 (DepthwiseConv2D)  (None, 75, 75, 128)       1152      \n",
            "_________________________________________________________________\n",
            "conv_dw_3_bn (BatchNormaliza (None, 75, 75, 128)       512       \n",
            "_________________________________________________________________\n",
            "conv_dw_3_relu (ReLU)        (None, 75, 75, 128)       0         \n",
            "_________________________________________________________________\n",
            "conv_pw_3 (Conv2D)           (None, 75, 75, 128)       16384     \n",
            "_________________________________________________________________\n",
            "conv_pw_3_bn (BatchNormaliza (None, 75, 75, 128)       512       \n",
            "_________________________________________________________________\n",
            "conv_pw_3_relu (ReLU)        (None, 75, 75, 128)       0         \n",
            "_________________________________________________________________\n",
            "conv_pad_4 (ZeroPadding2D)   (None, 76, 76, 128)       0         \n",
            "_________________________________________________________________\n",
            "conv_dw_4 (DepthwiseConv2D)  (None, 37, 37, 128)       1152      \n",
            "_________________________________________________________________\n",
            "conv_dw_4_bn (BatchNormaliza (None, 37, 37, 128)       512       \n",
            "_________________________________________________________________\n",
            "conv_dw_4_relu (ReLU)        (None, 37, 37, 128)       0         \n",
            "_________________________________________________________________\n",
            "conv_pw_4 (Conv2D)           (None, 37, 37, 256)       32768     \n",
            "_________________________________________________________________\n",
            "conv_pw_4_bn (BatchNormaliza (None, 37, 37, 256)       1024      \n",
            "_________________________________________________________________\n",
            "conv_pw_4_relu (ReLU)        (None, 37, 37, 256)       0         \n",
            "_________________________________________________________________\n",
            "conv_dw_5 (DepthwiseConv2D)  (None, 37, 37, 256)       2304      \n",
            "_________________________________________________________________\n",
            "conv_dw_5_bn (BatchNormaliza (None, 37, 37, 256)       1024      \n",
            "_________________________________________________________________\n",
            "conv_dw_5_relu (ReLU)        (None, 37, 37, 256)       0         \n",
            "_________________________________________________________________\n",
            "conv_pw_5 (Conv2D)           (None, 37, 37, 256)       65536     \n",
            "_________________________________________________________________\n",
            "conv_pw_5_bn (BatchNormaliza (None, 37, 37, 256)       1024      \n",
            "_________________________________________________________________\n",
            "conv_pw_5_relu (ReLU)        (None, 37, 37, 256)       0         \n",
            "_________________________________________________________________\n",
            "conv_pad_6 (ZeroPadding2D)   (None, 38, 38, 256)       0         \n",
            "_________________________________________________________________\n",
            "conv_dw_6 (DepthwiseConv2D)  (None, 18, 18, 256)       2304      \n",
            "_________________________________________________________________\n",
            "conv_dw_6_bn (BatchNormaliza (None, 18, 18, 256)       1024      \n",
            "_________________________________________________________________\n",
            "conv_dw_6_relu (ReLU)        (None, 18, 18, 256)       0         \n",
            "_________________________________________________________________\n",
            "conv_pw_6 (Conv2D)           (None, 18, 18, 512)       131072    \n",
            "_________________________________________________________________\n",
            "conv_pw_6_bn (BatchNormaliza (None, 18, 18, 512)       2048      \n",
            "_________________________________________________________________\n",
            "conv_pw_6_relu (ReLU)        (None, 18, 18, 512)       0         \n",
            "_________________________________________________________________\n",
            "conv_dw_7 (DepthwiseConv2D)  (None, 18, 18, 512)       4608      \n",
            "_________________________________________________________________\n",
            "conv_dw_7_bn (BatchNormaliza (None, 18, 18, 512)       2048      \n",
            "_________________________________________________________________\n",
            "conv_dw_7_relu (ReLU)        (None, 18, 18, 512)       0         \n",
            "_________________________________________________________________\n",
            "conv_pw_7 (Conv2D)           (None, 18, 18, 512)       262144    \n",
            "_________________________________________________________________\n",
            "conv_pw_7_bn (BatchNormaliza (None, 18, 18, 512)       2048      \n",
            "_________________________________________________________________\n",
            "conv_pw_7_relu (ReLU)        (None, 18, 18, 512)       0         \n",
            "_________________________________________________________________\n",
            "conv_dw_8 (DepthwiseConv2D)  (None, 18, 18, 512)       4608      \n",
            "_________________________________________________________________\n",
            "conv_dw_8_bn (BatchNormaliza (None, 18, 18, 512)       2048      \n",
            "_________________________________________________________________\n",
            "conv_dw_8_relu (ReLU)        (None, 18, 18, 512)       0         \n",
            "_________________________________________________________________\n",
            "conv_pw_8 (Conv2D)           (None, 18, 18, 512)       262144    \n",
            "_________________________________________________________________\n",
            "conv_pw_8_bn (BatchNormaliza (None, 18, 18, 512)       2048      \n",
            "_________________________________________________________________\n",
            "conv_pw_8_relu (ReLU)        (None, 18, 18, 512)       0         \n",
            "_________________________________________________________________\n",
            "conv_dw_9 (DepthwiseConv2D)  (None, 18, 18, 512)       4608      \n",
            "_________________________________________________________________\n",
            "conv_dw_9_bn (BatchNormaliza (None, 18, 18, 512)       2048      \n",
            "_________________________________________________________________\n",
            "conv_dw_9_relu (ReLU)        (None, 18, 18, 512)       0         \n",
            "_________________________________________________________________\n",
            "conv_pw_9 (Conv2D)           (None, 18, 18, 512)       262144    \n",
            "_________________________________________________________________\n",
            "conv_pw_9_bn (BatchNormaliza (None, 18, 18, 512)       2048      \n",
            "_________________________________________________________________\n",
            "conv_pw_9_relu (ReLU)        (None, 18, 18, 512)       0         \n",
            "_________________________________________________________________\n",
            "conv_dw_10 (DepthwiseConv2D) (None, 18, 18, 512)       4608      \n",
            "_________________________________________________________________\n",
            "conv_dw_10_bn (BatchNormaliz (None, 18, 18, 512)       2048      \n",
            "_________________________________________________________________\n",
            "conv_dw_10_relu (ReLU)       (None, 18, 18, 512)       0         \n",
            "_________________________________________________________________\n",
            "conv_pw_10 (Conv2D)          (None, 18, 18, 512)       262144    \n",
            "_________________________________________________________________\n",
            "conv_pw_10_bn (BatchNormaliz (None, 18, 18, 512)       2048      \n",
            "_________________________________________________________________\n",
            "conv_pw_10_relu (ReLU)       (None, 18, 18, 512)       0         \n",
            "_________________________________________________________________\n",
            "conv_dw_11 (DepthwiseConv2D) (None, 18, 18, 512)       4608      \n",
            "_________________________________________________________________\n",
            "conv_dw_11_bn (BatchNormaliz (None, 18, 18, 512)       2048      \n",
            "_________________________________________________________________\n",
            "conv_dw_11_relu (ReLU)       (None, 18, 18, 512)       0         \n",
            "_________________________________________________________________\n",
            "conv_pw_11 (Conv2D)          (None, 18, 18, 512)       262144    \n",
            "_________________________________________________________________\n",
            "conv_pw_11_bn (BatchNormaliz (None, 18, 18, 512)       2048      \n",
            "_________________________________________________________________\n",
            "conv_pw_11_relu (ReLU)       (None, 18, 18, 512)       0         \n",
            "_________________________________________________________________\n",
            "conv_pad_12 (ZeroPadding2D)  (None, 19, 19, 512)       0         \n",
            "_________________________________________________________________\n",
            "conv_dw_12 (DepthwiseConv2D) (None, 9, 9, 512)         4608      \n",
            "_________________________________________________________________\n",
            "conv_dw_12_bn (BatchNormaliz (None, 9, 9, 512)         2048      \n",
            "_________________________________________________________________\n",
            "conv_dw_12_relu (ReLU)       (None, 9, 9, 512)         0         \n",
            "_________________________________________________________________\n",
            "conv_pw_12 (Conv2D)          (None, 9, 9, 1024)        524288    \n",
            "_________________________________________________________________\n",
            "conv_pw_12_bn (BatchNormaliz (None, 9, 9, 1024)        4096      \n",
            "_________________________________________________________________\n",
            "conv_pw_12_relu (ReLU)       (None, 9, 9, 1024)        0         \n",
            "_________________________________________________________________\n",
            "conv_dw_13 (DepthwiseConv2D) (None, 9, 9, 1024)        9216      \n",
            "_________________________________________________________________\n",
            "conv_dw_13_bn (BatchNormaliz (None, 9, 9, 1024)        4096      \n",
            "_________________________________________________________________\n",
            "conv_dw_13_relu (ReLU)       (None, 9, 9, 1024)        0         \n",
            "_________________________________________________________________\n",
            "conv_pw_13 (Conv2D)          (None, 9, 9, 1024)        1048576   \n",
            "_________________________________________________________________\n",
            "conv_pw_13_bn (BatchNormaliz (None, 9, 9, 1024)        4096      \n",
            "_________________________________________________________________\n",
            "conv_pw_13_relu (ReLU)       (None, 9, 9, 1024)        0         \n",
            "_________________________________________________________________\n",
            "global_average_pooling2d (Gl (None, 1024)              0         \n",
            "_________________________________________________________________\n",
            "dense (Dense)                (None, 1024)              1049600   \n",
            "_________________________________________________________________\n",
            "dense_1 (Dense)              (None, 1024)              1049600   \n",
            "_________________________________________________________________\n",
            "dense_2 (Dense)              (None, 512)               524800    \n",
            "_________________________________________________________________\n",
            "dense_3 (Dense)              (None, 11)                5643      \n",
            "=================================================================\n",
            "Total params: 5,858,507\n",
            "Trainable params: 2,629,643\n",
            "Non-trainable params: 3,228,864\n",
            "_________________________________________________________________\n"
          ],
          "name": "stdout"
        }
      ]
    },
    {
      "cell_type": "code",
      "metadata": {
        "id": "rJTfIm9wzi4B",
        "colab": {
          "base_uri": "https://localhost:8080/",
          "height": 35
        },
        "outputId": "1cc13acc-480c-426f-a3e6-92eb9968d4df"
      },
      "source": [
        "print('Number of trainable variables = {}'.format(len(model.trainable_variables)))"
      ],
      "execution_count": null,
      "outputs": [
        {
          "output_type": "stream",
          "text": [
            "Number of trainable variables = 8\n"
          ],
          "name": "stdout"
        }
      ]
    },
    {
      "cell_type": "code",
      "metadata": {
        "id": "bI-t_HUDcAUT",
        "colab": {
          "base_uri": "https://localhost:8080/",
          "height": 1000
        },
        "outputId": "4ad1fdac-2592-486d-98e6-8f3f94fb0b15"
      },
      "source": [
        "history_fine = model.fit_generator(train_generator, \n",
        "                         epochs=50,\n",
        "                         validation_data=val_generator)\n",
        "\n"
      ],
      "execution_count": null,
      "outputs": [
        {
          "output_type": "stream",
          "text": [
            "WARNING:tensorflow:From <ipython-input-17-1020415e678b>:3: Model.fit_generator (from tensorflow.python.keras.engine.training) is deprecated and will be removed in a future version.\n",
            "Instructions for updating:\n",
            "Please use Model.fit, which supports generators.\n",
            "Epoch 1/50\n",
            "10/10 [==============================] - 408s 41s/step - loss: 2.4786 - accuracy: 0.2327 - val_loss: 1.7676 - val_accuracy: 0.4545\n",
            "Epoch 2/50\n",
            "10/10 [==============================] - 94s 9s/step - loss: 1.3968 - accuracy: 0.5063 - val_loss: 1.2517 - val_accuracy: 0.5195\n",
            "Epoch 3/50\n",
            "10/10 [==============================] - 92s 9s/step - loss: 0.8634 - accuracy: 0.7091 - val_loss: 1.0659 - val_accuracy: 0.5195\n",
            "Epoch 4/50\n",
            "10/10 [==============================] - 92s 9s/step - loss: 0.6467 - accuracy: 0.7704 - val_loss: 0.9723 - val_accuracy: 0.6169\n",
            "Epoch 5/50\n",
            "10/10 [==============================] - 91s 9s/step - loss: 0.5278 - accuracy: 0.8113 - val_loss: 0.9304 - val_accuracy: 0.6429\n",
            "Epoch 6/50\n",
            "10/10 [==============================] - 93s 9s/step - loss: 0.4195 - accuracy: 0.8475 - val_loss: 0.8724 - val_accuracy: 0.6169\n",
            "Epoch 7/50\n",
            "10/10 [==============================] - 94s 9s/step - loss: 0.3633 - accuracy: 0.8758 - val_loss: 0.6915 - val_accuracy: 0.7143\n",
            "Epoch 8/50\n",
            "10/10 [==============================] - 94s 9s/step - loss: 0.2771 - accuracy: 0.8978 - val_loss: 0.8218 - val_accuracy: 0.7208\n",
            "Epoch 9/50\n",
            "10/10 [==============================] - 92s 9s/step - loss: 0.1903 - accuracy: 0.9450 - val_loss: 0.7338 - val_accuracy: 0.7403\n",
            "Epoch 10/50\n",
            "10/10 [==============================] - 94s 9s/step - loss: 0.1510 - accuracy: 0.9544 - val_loss: 0.6267 - val_accuracy: 0.7597\n",
            "Epoch 11/50\n",
            "10/10 [==============================] - 92s 9s/step - loss: 0.1722 - accuracy: 0.9371 - val_loss: 0.7581 - val_accuracy: 0.7532\n",
            "Epoch 12/50\n",
            "10/10 [==============================] - 91s 9s/step - loss: 0.1591 - accuracy: 0.9497 - val_loss: 0.9092 - val_accuracy: 0.7273\n",
            "Epoch 13/50\n",
            "10/10 [==============================] - 93s 9s/step - loss: 0.1206 - accuracy: 0.9591 - val_loss: 0.8710 - val_accuracy: 0.7273\n",
            "Epoch 14/50\n",
            "10/10 [==============================] - 91s 9s/step - loss: 0.1110 - accuracy: 0.9654 - val_loss: 0.6976 - val_accuracy: 0.7987\n",
            "Epoch 15/50\n",
            "10/10 [==============================] - 92s 9s/step - loss: 0.1027 - accuracy: 0.9591 - val_loss: 1.1336 - val_accuracy: 0.6558\n",
            "Epoch 16/50\n",
            "10/10 [==============================] - 92s 9s/step - loss: 0.1937 - accuracy: 0.9308 - val_loss: 1.1405 - val_accuracy: 0.7468\n",
            "Epoch 17/50\n",
            "10/10 [==============================] - 92s 9s/step - loss: 0.2490 - accuracy: 0.9151 - val_loss: 0.9085 - val_accuracy: 0.7338\n",
            "Epoch 18/50\n",
            "10/10 [==============================] - 93s 9s/step - loss: 0.1724 - accuracy: 0.9355 - val_loss: 0.6118 - val_accuracy: 0.7468\n",
            "Epoch 19/50\n",
            "10/10 [==============================] - 93s 9s/step - loss: 0.1679 - accuracy: 0.9434 - val_loss: 0.6952 - val_accuracy: 0.7987\n",
            "Epoch 20/50\n",
            "10/10 [==============================] - 92s 9s/step - loss: 0.1266 - accuracy: 0.9560 - val_loss: 0.6798 - val_accuracy: 0.7987\n",
            "Epoch 21/50\n",
            "10/10 [==============================] - 93s 9s/step - loss: 0.1179 - accuracy: 0.9607 - val_loss: 0.7416 - val_accuracy: 0.7662\n",
            "Epoch 22/50\n",
            "10/10 [==============================] - 91s 9s/step - loss: 0.0827 - accuracy: 0.9670 - val_loss: 0.5968 - val_accuracy: 0.8182\n",
            "Epoch 23/50\n",
            "10/10 [==============================] - 92s 9s/step - loss: 0.0720 - accuracy: 0.9748 - val_loss: 0.6520 - val_accuracy: 0.8117\n",
            "Epoch 24/50\n",
            "10/10 [==============================] - 92s 9s/step - loss: 0.0747 - accuracy: 0.9780 - val_loss: 0.6549 - val_accuracy: 0.8117\n",
            "Epoch 25/50\n",
            "10/10 [==============================] - 92s 9s/step - loss: 0.0983 - accuracy: 0.9686 - val_loss: 0.8161 - val_accuracy: 0.7857\n",
            "Epoch 26/50\n",
            "10/10 [==============================] - 91s 9s/step - loss: 0.0373 - accuracy: 0.9890 - val_loss: 0.7741 - val_accuracy: 0.7922\n",
            "Epoch 27/50\n",
            "10/10 [==============================] - 92s 9s/step - loss: 0.0383 - accuracy: 0.9874 - val_loss: 0.5607 - val_accuracy: 0.8377\n",
            "Epoch 28/50\n",
            "10/10 [==============================] - 90s 9s/step - loss: 0.0596 - accuracy: 0.9764 - val_loss: 0.6785 - val_accuracy: 0.8117\n",
            "Epoch 29/50\n",
            "10/10 [==============================] - 90s 9s/step - loss: 0.0563 - accuracy: 0.9858 - val_loss: 0.6599 - val_accuracy: 0.7922\n",
            "Epoch 30/50\n",
            "10/10 [==============================] - 92s 9s/step - loss: 0.0428 - accuracy: 0.9843 - val_loss: 0.7204 - val_accuracy: 0.8052\n",
            "Epoch 31/50\n",
            "10/10 [==============================] - 92s 9s/step - loss: 0.0634 - accuracy: 0.9764 - val_loss: 0.8175 - val_accuracy: 0.7532\n",
            "Epoch 32/50\n",
            "10/10 [==============================] - 91s 9s/step - loss: 0.1112 - accuracy: 0.9607 - val_loss: 0.9861 - val_accuracy: 0.7468\n",
            "Epoch 33/50\n",
            "10/10 [==============================] - 93s 9s/step - loss: 0.0768 - accuracy: 0.9748 - val_loss: 0.7408 - val_accuracy: 0.7792\n",
            "Epoch 34/50\n",
            "10/10 [==============================] - 91s 9s/step - loss: 0.0816 - accuracy: 0.9733 - val_loss: 0.6335 - val_accuracy: 0.8052\n",
            "Epoch 35/50\n",
            "10/10 [==============================] - 91s 9s/step - loss: 0.0474 - accuracy: 0.9827 - val_loss: 0.9287 - val_accuracy: 0.7208\n",
            "Epoch 36/50\n",
            "10/10 [==============================] - 92s 9s/step - loss: 0.0271 - accuracy: 0.9921 - val_loss: 0.8561 - val_accuracy: 0.7922\n",
            "Epoch 37/50\n",
            "10/10 [==============================] - 92s 9s/step - loss: 0.0602 - accuracy: 0.9827 - val_loss: 1.0268 - val_accuracy: 0.7468\n",
            "Epoch 38/50\n",
            "10/10 [==============================] - 91s 9s/step - loss: 0.0495 - accuracy: 0.9827 - val_loss: 0.9377 - val_accuracy: 0.7792\n",
            "Epoch 39/50\n",
            "10/10 [==============================] - 90s 9s/step - loss: 0.0837 - accuracy: 0.9764 - val_loss: 0.7622 - val_accuracy: 0.8117\n",
            "Epoch 40/50\n",
            "10/10 [==============================] - 91s 9s/step - loss: 0.0559 - accuracy: 0.9858 - val_loss: 1.1759 - val_accuracy: 0.7208\n",
            "Epoch 41/50\n",
            "10/10 [==============================] - 92s 9s/step - loss: 0.0485 - accuracy: 0.9858 - val_loss: 0.8574 - val_accuracy: 0.8247\n",
            "Epoch 42/50\n",
            "10/10 [==============================] - 90s 9s/step - loss: 0.0217 - accuracy: 0.9969 - val_loss: 1.1142 - val_accuracy: 0.7597\n",
            "Epoch 43/50\n",
            "10/10 [==============================] - 94s 9s/step - loss: 0.0297 - accuracy: 0.9890 - val_loss: 0.7457 - val_accuracy: 0.7857\n",
            "Epoch 44/50\n",
            "10/10 [==============================] - 92s 9s/step - loss: 0.0265 - accuracy: 0.9906 - val_loss: 0.8400 - val_accuracy: 0.8247\n",
            "Epoch 45/50\n",
            "10/10 [==============================] - 92s 9s/step - loss: 0.0303 - accuracy: 0.9921 - val_loss: 0.7167 - val_accuracy: 0.7922\n",
            "Epoch 46/50\n",
            "10/10 [==============================] - 92s 9s/step - loss: 0.0258 - accuracy: 0.9890 - val_loss: 1.4028 - val_accuracy: 0.7662\n",
            "Epoch 47/50\n",
            "10/10 [==============================] - 92s 9s/step - loss: 0.1222 - accuracy: 0.9701 - val_loss: 0.7862 - val_accuracy: 0.7338\n",
            "Epoch 48/50\n",
            "10/10 [==============================] - 90s 9s/step - loss: 0.0788 - accuracy: 0.9686 - val_loss: 0.6651 - val_accuracy: 0.8506\n",
            "Epoch 49/50\n",
            "10/10 [==============================] - 90s 9s/step - loss: 0.0607 - accuracy: 0.9780 - val_loss: 0.8487 - val_accuracy: 0.7987\n",
            "Epoch 50/50\n",
            "10/10 [==============================] - 93s 9s/step - loss: 0.0449 - accuracy: 0.9811 - val_loss: 0.7393 - val_accuracy: 0.8442\n"
          ],
          "name": "stdout"
        }
      ]
    },
    {
      "cell_type": "code",
      "metadata": {
        "id": "jxKwms_vzl9l",
        "colab": {
          "base_uri": "https://localhost:8080/",
          "height": 110
        },
        "outputId": "09c0759c-4ad2-4b90-c143-3c0db9ddee67"
      },
      "source": [
        "saved_model_dir = 'save/fine_tuning'\n",
        "tf.saved_model.save(model, saved_model_dir)\n",
        "\n",
        "converter = tf.lite.TFLiteConverter.from_saved_model(saved_model_dir)\n",
        "tflite_model = converter.convert()\n",
        "\n",
        "\n",
        "with open('model.tflite', 'wb') as f:\n",
        "  f.write(tflite_model)"
      ],
      "execution_count": null,
      "outputs": [
        {
          "output_type": "stream",
          "text": [
            "WARNING:tensorflow:From /usr/local/lib/python3.6/dist-packages/tensorflow/python/ops/resource_variable_ops.py:1817: calling BaseResourceVariable.__init__ (from tensorflow.python.ops.resource_variable_ops) with constraint is deprecated and will be removed in a future version.\n",
            "Instructions for updating:\n",
            "If using Keras pass *_constraint arguments to layers.\n",
            "INFO:tensorflow:Assets written to: save/fine_tuning/assets\n"
          ],
          "name": "stdout"
        }
      ]
    },
    {
      "cell_type": "code",
      "metadata": {
        "id": "Y0bPECV4zn3n",
        "colab": {
          "base_uri": "https://localhost:8080/",
          "height": 17
        },
        "outputId": "06ad8573-b4f3-48f5-a64c-8d97ce57e557"
      },
      "source": [
        "from google.colab import files\n",
        "\n",
        "files.download('model.tflite')\n",
        "files.download('labels.txt')"
      ],
      "execution_count": null,
      "outputs": [
        {
          "output_type": "display_data",
          "data": {
            "application/javascript": [
              "\n",
              "    async function download(id, filename, size) {\n",
              "      if (!google.colab.kernel.accessAllowed) {\n",
              "        return;\n",
              "      }\n",
              "      const div = document.createElement('div');\n",
              "      const label = document.createElement('label');\n",
              "      label.textContent = `Downloading \"${filename}\": `;\n",
              "      div.appendChild(label);\n",
              "      const progress = document.createElement('progress');\n",
              "      progress.max = size;\n",
              "      div.appendChild(progress);\n",
              "      document.body.appendChild(div);\n",
              "\n",
              "      const buffers = [];\n",
              "      let downloaded = 0;\n",
              "\n",
              "      const channel = await google.colab.kernel.comms.open(id);\n",
              "      // Send a message to notify the kernel that we're ready.\n",
              "      channel.send({})\n",
              "\n",
              "      for await (const message of channel.messages) {\n",
              "        // Send a message to notify the kernel that we're ready.\n",
              "        channel.send({})\n",
              "        if (message.buffers) {\n",
              "          for (const buffer of message.buffers) {\n",
              "            buffers.push(buffer);\n",
              "            downloaded += buffer.byteLength;\n",
              "            progress.value = downloaded;\n",
              "          }\n",
              "        }\n",
              "      }\n",
              "      const blob = new Blob(buffers, {type: 'application/binary'});\n",
              "      const a = document.createElement('a');\n",
              "      a.href = window.URL.createObjectURL(blob);\n",
              "      a.download = filename;\n",
              "      div.appendChild(a);\n",
              "      a.click();\n",
              "      div.remove();\n",
              "    }\n",
              "  "
            ],
            "text/plain": [
              "<IPython.core.display.Javascript object>"
            ]
          },
          "metadata": {
            "tags": []
          }
        },
        {
          "output_type": "display_data",
          "data": {
            "application/javascript": [
              "download(\"download_c28bd360-d849-4265-89bf-832765f6b091\", \"model.tflite\", 23315032)"
            ],
            "text/plain": [
              "<IPython.core.display.Javascript object>"
            ]
          },
          "metadata": {
            "tags": []
          }
        },
        {
          "output_type": "display_data",
          "data": {
            "application/javascript": [
              "\n",
              "    async function download(id, filename, size) {\n",
              "      if (!google.colab.kernel.accessAllowed) {\n",
              "        return;\n",
              "      }\n",
              "      const div = document.createElement('div');\n",
              "      const label = document.createElement('label');\n",
              "      label.textContent = `Downloading \"${filename}\": `;\n",
              "      div.appendChild(label);\n",
              "      const progress = document.createElement('progress');\n",
              "      progress.max = size;\n",
              "      div.appendChild(progress);\n",
              "      document.body.appendChild(div);\n",
              "\n",
              "      const buffers = [];\n",
              "      let downloaded = 0;\n",
              "\n",
              "      const channel = await google.colab.kernel.comms.open(id);\n",
              "      // Send a message to notify the kernel that we're ready.\n",
              "      channel.send({})\n",
              "\n",
              "      for await (const message of channel.messages) {\n",
              "        // Send a message to notify the kernel that we're ready.\n",
              "        channel.send({})\n",
              "        if (message.buffers) {\n",
              "          for (const buffer of message.buffers) {\n",
              "            buffers.push(buffer);\n",
              "            downloaded += buffer.byteLength;\n",
              "            progress.value = downloaded;\n",
              "          }\n",
              "        }\n",
              "      }\n",
              "      const blob = new Blob(buffers, {type: 'application/binary'});\n",
              "      const a = document.createElement('a');\n",
              "      a.href = window.URL.createObjectURL(blob);\n",
              "      a.download = filename;\n",
              "      div.appendChild(a);\n",
              "      a.click();\n",
              "      div.remove();\n",
              "    }\n",
              "  "
            ],
            "text/plain": [
              "<IPython.core.display.Javascript object>"
            ]
          },
          "metadata": {
            "tags": []
          }
        },
        {
          "output_type": "display_data",
          "data": {
            "application/javascript": [
              "download(\"download_a5318de1-3439-4735-9d10-9406d97303c8\", \"labels.txt\", 39)"
            ],
            "text/plain": [
              "<IPython.core.display.Javascript object>"
            ]
          },
          "metadata": {
            "tags": []
          }
        }
      ]
    },
    {
      "cell_type": "code",
      "metadata": {
        "id": "siS0hmq6zp7o",
        "colab": {
          "base_uri": "https://localhost:8080/",
          "height": 513
        },
        "outputId": "0cc84225-a10f-48e5-90d4-6a5a9c8a1845"
      },
      "source": [
        "acc = history_fine.history['accuracy']\n",
        "val_acc = history_fine.history['val_accuracy']\n",
        "\n",
        "loss = history_fine.history['loss']\n",
        "val_loss = history_fine.history['val_loss']\n",
        "\n",
        "plt.figure(figsize=(8, 8))\n",
        "plt.subplot(2, 1, 1)\n",
        "plt.plot(acc, label='Training Accuracy')\n",
        "plt.plot(val_acc, label='Validation Accuracy')\n",
        "plt.legend(loc='lower right')\n",
        "plt.ylabel('Accuracy')\n",
        "plt.ylim([min(plt.ylim()),1])\n",
        "plt.title('Training and Validation Accuracy')\n",
        "\n",
        "plt.subplot(2, 1, 2)\n",
        "plt.plot(loss, label='Training Loss')\n",
        "plt.plot(val_loss, label='Validation Loss')\n",
        "plt.legend(loc='upper right')\n",
        "plt.ylabel('Cross Entropy')\n",
        "plt.ylim([0,3.0])\n",
        "plt.title('Training and Validation Loss')\n",
        "plt.xlabel('epoch')\n",
        "plt.show()"
      ],
      "execution_count": null,
      "outputs": [
        {
          "output_type": "display_data",
          "data": {
            "image/png": "[encoded data removed]",
            "text/plain": [
              "<Figure size 576x576 with 2 Axes>"
            ]
          },
          "metadata": {
            "tags": [],
            "needs_background": "light"
          }
        }
      ]
    }
  ]
}